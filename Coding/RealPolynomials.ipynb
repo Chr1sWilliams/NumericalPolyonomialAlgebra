{
 "cells": [
  {
   "cell_type": "markdown",
   "metadata": {},
   "source": [
    "# some simple univariate polynomials\n",
    "\n",
    "* computing with real univariate polynomials ...\n",
    "* it seems that the gcd function for floating point numbers does not give what we expect\n",
    "* can you fix this?\n",
    "    * hint 1: Euclid's algorithm is used for the gcd computations\n",
    "    * hint 2: this problem has been studied\n",
    "    * hint 3: the product of the two polynomials is not the exact product"
   ]
  },
  {
   "cell_type": "code",
   "execution_count": 75,
   "metadata": {},
   "outputs": [
    {
     "name": "stdout",
     "output_type": "stream",
     "text": [
      "random polynomial system: \n",
      " [0.6732326427424*x**3 + 0.589805024218535*x**2 + 0.994148645086472*x + 0.245392799513807\n",
      " 0.693966806057134*x**3 + 0.730077974739495*x**2 + 0.931671319768751*x + 0.335362839102171]\n",
      "\n",
      "polynomial P[0]: Poly(0.6732326427424*x**3 + 0.589805024218535*x**2 + 0.994148645086472*x + 0.245392799513807, x, domain='RR')\n"
     ]
    }
   ],
   "source": [
    "# example how to use numpy arrays to define polynomial systems ...\n",
    "\n",
    "from sympy import symbols\n",
    "\n",
    "from numpy import arange, dot\n",
    "from numpy.random import rand\n",
    "\n",
    "x = symbols('x')\n",
    "d = 3  # degree\n",
    "n = 2  # size of system\n",
    "\n",
    "# array of monomials xb, degree d\n",
    "ie = arange(d+1)\n",
    "xb = x**ie  # Stetter denotes this by b(x)\n",
    "\n",
    "# random coefficients\n",
    "C = rand(n,d+1)\n",
    "\n",
    "# polynomial system\n",
    "P = dot(C,xb)\n",
    "\n",
    "print(\"random polynomial system: \\n {}\\n\".format(P))\n",
    "\n",
    "# convert to sympy polynomial (P[i] are just expressions)\n",
    "print(\"polynomial P[0]: {}\".format(P[0].as_poly()))"
   ]
  },
  {
   "cell_type": "code",
   "execution_count": 76,
   "metadata": {},
   "outputs": [
    {
     "name": "stdout",
     "output_type": "stream",
     "text": [
      " quotient  q = 1.03079791738896 \n",
      " remainder r = 0.122108184109483*x**2 - 0.093095033161443*x + 0.0824124524210923\n",
      " should be zero: 0\n"
     ]
    }
   ],
   "source": [
    "# division with remainder\n",
    "from sympy import div\n",
    "q, r = div(P[1], P[0])\n",
    "print(\" quotient  q = {} \\n remainder r = {}\".format(q,r))\n",
    "\n",
    "# check result\n",
    "print(\" should be zero: {}\".format(q*P[0] + r - P[1]))"
   ]
  },
  {
   "cell_type": "code",
   "execution_count": 77,
   "metadata": {},
   "outputs": [
    {
     "name": "stdout",
     "output_type": "stream",
     "text": [
      "Help on function div in module sympy.polys.polytools:\n",
      "\n",
      "div(f, g, *gens, **args)\n",
      "    Compute polynomial division of ``f`` and ``g``.\n",
      "    \n",
      "    Examples\n",
      "    ========\n",
      "    \n",
      "    >>> from sympy import div, ZZ, QQ\n",
      "    >>> from sympy.abc import x\n",
      "    \n",
      "    >>> div(x**2 + 1, 2*x - 4, domain=ZZ)\n",
      "    (0, x**2 + 1)\n",
      "    >>> div(x**2 + 1, 2*x - 4, domain=QQ)\n",
      "    (x/2 + 1, 5)\n",
      "\n"
     ]
    }
   ],
   "source": [
    "# get some help\n",
    "help(div)"
   ]
  },
  {
   "cell_type": "code",
   "execution_count": 78,
   "metadata": {},
   "outputs": [
    {
     "name": "stdout",
     "output_type": "stream",
     "text": [
      " gcd of P[0] and P[1] : 1.00000000000000\n"
     ]
    }
   ],
   "source": [
    "# compute the gcd\n",
    "from sympy import gcd\n",
    "q = gcd(P[0],P[1])\n",
    "print(\" gcd of P[0] and P[1] : {}\".format(q))"
   ]
  },
  {
   "cell_type": "code",
   "execution_count": 79,
   "metadata": {},
   "outputs": [
    {
     "name": "stdout",
     "output_type": "stream",
     "text": [
      " gcd of P[0]*P[1] and P[0] : 1.00000000000000\n"
     ]
    }
   ],
   "source": [
    "# a less trivial case of gcd ???? try a few different random polynomials ...\n",
    "q = gcd(P[0]*P[1], P[0])\n",
    "print(\" gcd of P[0]*P[1] and P[0] : {}\".format(q))"
   ]
  },
  {
   "cell_type": "code",
   "execution_count": 80,
   "metadata": {},
   "outputs": [
    {
     "name": "stdout",
     "output_type": "stream",
     "text": [
      "Help on function gcd in module sympy.polys.polytools:\n",
      "\n",
      "gcd(f, g=None, *gens, **args)\n",
      "    Compute GCD of ``f`` and ``g``.\n",
      "    \n",
      "    Examples\n",
      "    ========\n",
      "    \n",
      "    >>> from sympy import gcd\n",
      "    >>> from sympy.abc import x\n",
      "    \n",
      "    >>> gcd(x**2 - 1, x**2 - 3*x + 2)\n",
      "    x - 1\n",
      "\n"
     ]
    }
   ],
   "source": [
    "# get some help!\n",
    "help(gcd)"
   ]
  },
  {
   "cell_type": "code",
   "execution_count": 81,
   "metadata": {},
   "outputs": [
    {
     "name": "stdout",
     "output_type": "stream",
     "text": [
      " gcd of Q[0]*Q[1] and Q[0] : x**3 + 5312491374583679*x**2/6063940557976658 + 639606781080331*x/433138611284047 + 1105150920449782/3031970278988329\n",
      " remainder of division Q[0]/q : 0\n",
      " difference Q-P : [0 0]\n",
      " difference Q[0]*Q[1] - P[0]*P[1] : Poly(2.22044604925031e-16*x**3, x, domain='RR')\n"
     ]
    }
   ],
   "source": [
    "# do the same computation with rationals\n",
    "from sympy import Rational\n",
    "from numpy import vectorize # (not necessarily fast)\n",
    "q_vect = vectorize(Rational)\n",
    "\n",
    "Cq = q_vect(C)\n",
    "Q = dot(Cq,xb)\n",
    "\n",
    "q = gcd(Q[0]*Q[1], Q[0])\n",
    "print(\" gcd of Q[0]*Q[1] and Q[0] : {}\".format(q))\n",
    "\n",
    "_, r = div(Q[0], q)\n",
    "print(\" remainder of division Q[0]/q : {}\".format(r))\n",
    "\n",
    "print(\" difference Q-P : {}\".format(Q-P))\n",
    "\n",
    "print(\" difference Q[0]*Q[1] - P[0]*P[1] : {}\".format((Q[0]*Q[1]-P[0]*P[1]).as_poly()))"
   ]
  }
 ],
 "metadata": {
  "kernelspec": {
   "display_name": "Python 3",
   "language": "python",
   "name": "python3"
  },
  "language_info": {
   "codemirror_mode": {
    "name": "ipython",
    "version": 3
   },
   "file_extension": ".py",
   "mimetype": "text/x-python",
   "name": "python",
   "nbconvert_exporter": "python",
   "pygments_lexer": "ipython3",
   "version": "3.6.6"
  }
 },
 "nbformat": 4,
 "nbformat_minor": 2
}
